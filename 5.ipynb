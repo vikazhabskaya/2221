{
 "cells": [
  {
   "attachments": {},
   "cell_type": "markdown",
   "metadata": {},
   "source": [
    "# 5. Проверка гипотезы"
   ]
  },
  {
   "attachments": {},
   "cell_type": "markdown",
   "metadata": {},
   "source": [
    "5.1"
   ]
  },
  {
   "cell_type": "code",
   "execution_count": 3,
   "metadata": {},
   "outputs": [
    {
     "name": "stdout",
     "output_type": "stream",
     "text": [
      "                    date  temp  pressure  humidity\n",
      "0    2019-12-31 23:00:00  -9.2     743.1        76\n",
      "1    2019-12-31 20:00:00  -8.8     744.1        75\n",
      "2    2019-12-31 17:00:00  -7.9     744.5        82\n",
      "3    2019-12-31 14:00:00 -11.5     745.9        85\n",
      "4    2019-12-31 11:00:00 -12.8     749.0        84\n",
      "...                  ...   ...       ...       ...\n",
      "2914 2019-01-01 14:00:00 -10.6     770.8        71\n",
      "2915 2019-01-01 11:00:00 -11.9     771.3        75\n",
      "2916 2019-01-01 08:00:00 -12.8     770.9        75\n",
      "2917 2019-01-01 05:00:00 -12.8     770.9        75\n",
      "2918 2019-01-01 02:00:00 -11.8     770.6        75\n",
      "\n",
      "[2919 rows x 4 columns]\n",
      "p-значение: 0.00022 %\n",
      "Нулевая гипотеза отвергнута.\n"
     ]
    }
   ],
   "source": [
    "from scipy import stats as st\n",
    "import pandas as pd\n",
    "\n",
    "df = pd.read_csv('ekb_weather.csv')\n",
    "df['date'] = pd.to_datetime(df['date'])\n",
    "\n",
    "print(df)\n",
    "\n",
    "inter_value_temp = 5\n",
    "alpha = 0.05\n",
    "\n",
    "result = st.ttest_1samp(df['temp'], inter_value_temp)\n",
    "\n",
    "print('p-значение:', round(result.pvalue*100,5),'%')\n",
    "\n",
    "if (result.pvalue < alpha):\n",
    "\tprint('Нулевая гипотеза отвергнута.')\n",
    "else:\n",
    "\tprint('Нулевая гипотеза принята.')\n"
   ]
  },
  {
   "attachments": {},
   "cell_type": "markdown",
   "metadata": {},
   "source": [
    "5.2"
   ]
  },
  {
   "cell_type": "code",
   "execution_count": 11,
   "metadata": {},
   "outputs": [
    {
     "name": "stdout",
     "output_type": "stream",
     "text": [
      "p-значение: 0.4 %\n",
      "Нулевая гипотеза отвергнута.\n"
     ]
    }
   ],
   "source": [
    "inter_value_pressure = 761\n",
    "alpha = 0.05\n",
    "\n",
    "result = st.ttest_1samp(df['pressure'],inter_value_pressure,nan_policy= 'omit')         #NaN опущены\n",
    "\n",
    "print('p-значение:', round(result.pvalue*100,2),'%')\n",
    "\n",
    "if (result.pvalue < alpha):\n",
    "\tprint('Нулевая гипотеза отвергнута.')\n",
    "else:\n",
    "\tprint('Нулевая гипотеза принята.')"
   ]
  },
  {
   "attachments": {},
   "cell_type": "markdown",
   "metadata": {},
   "source": [
    "5.3"
   ]
  },
  {
   "cell_type": "code",
   "execution_count": 12,
   "metadata": {},
   "outputs": [
    {
     "name": "stdout",
     "output_type": "stream",
     "text": [
      "p-значение: 43.25 %\n",
      "Нулевая гипотеза принята.\n"
     ]
    }
   ],
   "source": [
    "inter_value_humidity = 66\n",
    "alpha = 0.05\n",
    "\n",
    "result = st.ttest_1samp(df['humidity'],inter_value_humidity,nan_policy= 'omit')         #NaN опущены\n",
    "\n",
    "print('p-значение:', round(result.pvalue*100,2),'%')\n",
    "\n",
    "if (result.pvalue < alpha):\n",
    "\tprint('Нулевая гипотеза отвергнута.')\n",
    "else:\n",
    "\tprint('Нулевая гипотеза принята.')"
   ]
  }
 ],
 "metadata": {
  "kernelspec": {
   "display_name": "Python 3",
   "language": "python",
   "name": "python3"
  },
  "language_info": {
   "codemirror_mode": {
    "name": "ipython",
    "version": 3
   },
   "file_extension": ".py",
   "mimetype": "text/x-python",
   "name": "python",
   "nbconvert_exporter": "python",
   "pygments_lexer": "ipython3",
   "version": "3.10.7"
  },
  "orig_nbformat": 4,
  "vscode": {
   "interpreter": {
    "hash": "a285706faa6a9586f29b2d65442270418fa5418eb298dfa17b733493bf5ee42e"
   }
  }
 },
 "nbformat": 4,
 "nbformat_minor": 2
}
