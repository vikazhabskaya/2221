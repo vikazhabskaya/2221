{
 "cells": [
  {
   "attachments": {},
   "cell_type": "markdown",
   "metadata": {},
   "source": [
    "# 5. Изменение типов данных"
   ]
  },
  {
   "attachments": {},
   "cell_type": "markdown",
   "metadata": {},
   "source": [
    "5.1"
   ]
  },
  {
   "cell_type": "code",
   "execution_count": 5,
   "metadata": {},
   "outputs": [
    {
     "name": "stdout",
     "output_type": "stream",
     "text": [
      "        gold  gold_usd  silver  silver_usd  platinum  platinum_usd  palladium  \\\n",
      "0    4784.40     60.18   58.70        0.74   2183.31         27.46    5677.62   \n",
      "1    4759.17     59.86   60.67        0.76   2195.94         27.62    5662.27   \n",
      "2    4729.52     59.49   60.93        0.77   2179.19         27.41    5812.01   \n",
      "3    4667.69     58.71   59.68        0.75   2145.92         26.99    5813.41   \n",
      "4    4673.64     58.79   60.85        0.77   2189.85         27.55       0.00   \n",
      "..       ...       ...     ...         ...       ...           ...        ...   \n",
      "123  4047.21     50.91    0.00        0.00   1800.29         22.65    4298.85   \n",
      "124  4023.90     50.62   35.70        0.45   1794.33         22.57    4324.99   \n",
      "125  4040.41     50.82   35.85        0.45   1795.58         22.59    4221.39   \n",
      "126  4014.11     50.49   35.86        0.45   1819.12         22.88    4655.36   \n",
      "127  4041.80     50.84   35.93        0.45   1847.95         23.24    4638.83   \n",
      "\n",
      "     palladium_usd             date  \n",
      "0            71.42  31.10.2020 0:00  \n",
      "1            71.22  30.10.2020 0:00  \n",
      "2            73.11  29.10.2020 0:00  \n",
      "3            73.12  28.10.2020 0:00  \n",
      "4             0.00  27.10.2020 0:00  \n",
      "..             ...              ...  \n",
      "123          54.07  09.05.2020 0:00  \n",
      "124          54.40  08.05.2020 0:00  \n",
      "125          53.10  07.05.2020 0:00  \n",
      "126          58.56  01.05.2020 0:00  \n",
      "127          58.35  30.04.2020 0:00  \n",
      "\n",
      "[128 rows x 9 columns]\n"
     ]
    }
   ],
   "source": [
    "import pandas as pd\n",
    "\n",
    "df = pd.read_csv('precious_metal_new2.csv')\n",
    "\n",
    "df = df.loc[:, ['gold', 'gold_usd', 'silver', 'silver_usd', 'platinum', 'platinum_usd', 'palladium', 'palladium_usd', 'date']]\n",
    "print(df)"
   ]
  },
  {
   "attachments": {},
   "cell_type": "markdown",
   "metadata": {},
   "source": [
    "5.2"
   ]
  },
  {
   "cell_type": "code",
   "execution_count": 6,
   "metadata": {},
   "outputs": [
    {
     "name": "stdout",
     "output_type": "stream",
     "text": [
      "        gold  gold_usd  silver  silver_usd  platinum  platinum_usd  palladium  \\\n",
      "0    4784.40     60.18   58.70        0.74   2183.31         27.46    5677.62   \n",
      "1    4759.17     59.86   60.67        0.76   2195.94         27.62    5662.27   \n",
      "2    4729.52     59.49   60.93        0.77   2179.19         27.41    5812.01   \n",
      "3    4667.69     58.71   59.68        0.75   2145.92         26.99    5813.41   \n",
      "4    4673.64     58.79   60.85        0.77   2189.85         27.55       0.00   \n",
      "..       ...       ...     ...         ...       ...           ...        ...   \n",
      "123  4047.21     50.91    0.00        0.00   1800.29         22.65    4298.85   \n",
      "124  4023.90     50.62   35.70        0.45   1794.33         22.57    4324.99   \n",
      "125  4040.41     50.82   35.85        0.45   1795.58         22.59    4221.39   \n",
      "126  4014.11     50.49   35.86        0.45   1819.12         22.88    4655.36   \n",
      "127  4041.80     50.84   35.93        0.45   1847.95         23.24    4638.83   \n",
      "\n",
      "     palladium_usd       date  \n",
      "0            71.42 2020-10-31  \n",
      "1            71.22 2020-10-30  \n",
      "2            73.11 2020-10-29  \n",
      "3            73.12 2020-10-28  \n",
      "4             0.00 2020-10-27  \n",
      "..             ...        ...  \n",
      "123          54.07 2020-05-09  \n",
      "124          54.40 2020-05-08  \n",
      "125          53.10 2020-05-07  \n",
      "126          58.56 2020-05-01  \n",
      "127          58.35 2020-04-30  \n",
      "\n",
      "[128 rows x 9 columns]\n"
     ]
    }
   ],
   "source": [
    "import pandas as pd\n",
    "\n",
    "df = pd.read_csv('precious_metal_new2.csv')\n",
    "\n",
    "df = df.loc[:, ['gold', 'gold_usd', 'silver', 'silver_usd',\n",
    "                'platinum', 'platinum_usd', 'palladium', 'palladium_usd',\n",
    "                'date']]\n",
    "df['date'] = pd.to_datetime(df['date'], format='%d.%m.%Y %H:%M')\n",
    "print(df)"
   ]
  },
  {
   "attachments": {},
   "cell_type": "markdown",
   "metadata": {},
   "source": [
    "5.3"
   ]
  },
  {
   "cell_type": "code",
   "execution_count": 11,
   "metadata": {},
   "outputs": [
    {
     "name": "stdout",
     "output_type": "stream",
     "text": [
      "     Unnamed: 0     gold  silver  platinum  palladium       date  gold_usd  \\\n",
      "0             0  4784.40   58.70   2183.31    5677.62 2020-10-31     60.18   \n",
      "1             1  4759.17   60.67   2195.94    5662.27 2020-10-30     59.86   \n",
      "2             2  4729.52   60.93   2179.19    5812.01 2020-10-29     59.49   \n",
      "3             3  4667.69   59.68   2145.92    5813.41 2020-10-28     58.71   \n",
      "4             4  4673.64   60.85   2189.85       0.00 2020-10-27     58.79   \n",
      "..          ...      ...     ...       ...        ...        ...       ...   \n",
      "123         123  4047.21    0.00   1800.29    4298.85 2020-09-05     50.91   \n",
      "124         124  4023.90   35.70   1794.33    4324.99 2020-08-05     50.62   \n",
      "125         125  4040.41   35.85   1795.58    4221.39 2020-07-05     50.82   \n",
      "126         126  4014.11   35.86   1819.12    4655.36 2020-01-05     50.49   \n",
      "127         127  4041.80   35.93   1847.95    4638.83 2020-04-30     50.84   \n",
      "\n",
      "     silver_usd  platinum_usd  palladium_usd     month  \n",
      "0          0.74         27.46          71.42   Октябрь  \n",
      "1          0.76         27.62          71.22   Октябрь  \n",
      "2          0.77         27.41          73.11   Октябрь  \n",
      "3          0.75         26.99          73.12   Октябрь  \n",
      "4          0.77         27.55           0.00   Октябрь  \n",
      "..          ...           ...            ...       ...  \n",
      "123        0.00         22.65          54.07  Сентябрь  \n",
      "124        0.45         22.57          54.40    Август  \n",
      "125        0.45         22.59          53.10      Июль  \n",
      "126        0.45         22.88          58.56    Январь  \n",
      "127        0.45         23.24          58.35    Апрель  \n",
      "\n",
      "[128 rows x 11 columns]\n"
     ]
    }
   ],
   "source": [
    "import pandas as pd\n",
    "\n",
    "df = pd.read_csv('precious_metal_new2.csv')\n",
    "\n",
    "months = {1:'Январь', 2:'Февраль', 3:'Март', 4:'Апрель', 5:'Май', 6:'Июнь', 7:'Июль', 8:'Август', 9:'Сентябрь', 10:'Октябрь', 11:'Ноябрь', 12:'Декабрь'}\n",
    "\n",
    "df['date'] = pd.to_datetime(df['date'])\n",
    "df['month'] = pd.DatetimeIndex(df['date']).month\n",
    "\n",
    "df['month'] = df['month'].apply(lambda i: months[i])\n",
    "\n",
    "df.to_csv('new_precious_metal.csv')\n",
    "\n",
    "print(df)\n"
   ]
  },
  {
   "attachments": {},
   "cell_type": "markdown",
   "metadata": {},
   "source": [
    "5.4"
   ]
  },
  {
   "cell_type": "code",
   "execution_count": null,
   "metadata": {},
   "outputs": [],
   "source": []
  },
  {
   "attachments": {},
   "cell_type": "markdown",
   "metadata": {},
   "source": [
    "5.5"
   ]
  },
  {
   "cell_type": "code",
   "execution_count": 16,
   "metadata": {},
   "outputs": [
    {
     "name": "stdout",
     "output_type": "stream",
     "text": [
      "Максимальное в списке: 4880.61\n",
      "Минимальное в списке: 0.0\n",
      "стандартная нормализация: 0      0.980287\n",
      "1      0.975118\n",
      "2      0.969043\n",
      "3      0.956374\n",
      "4      0.957593\n",
      "         ...   \n",
      "123    0.829243\n",
      "124    0.824467\n",
      "125    0.827849\n",
      "126    0.822461\n",
      "127    0.828134\n",
      "Name: gold, Length: 128, dtype: float64\n",
      "Среднее значение в столбце: 4234.95359375\n",
      "845.1447600242411\n",
      "min-max нормализация: 0      0.650121\n",
      "1      0.620268\n",
      "2      0.585185\n",
      "3      0.512026\n",
      "4      0.519067\n",
      "         ...   \n",
      "123   -0.222144\n",
      "124   -0.249725\n",
      "125   -0.230190\n",
      "126   -0.261309\n",
      "127   -0.228545\n",
      "Name: gold, Length: 128, dtype: float64\n"
     ]
    }
   ],
   "source": [
    "import pandas as pd\n",
    "\n",
    "df = pd.read_csv('precious_metal_new2.csv')\n",
    "\n",
    "ma = df['gold'].max()              #максимальное в списке\n",
    "print('Максимальное в списке:', ma)\n",
    "\n",
    "mi = df['gold'].min()              #минимальное в списке\n",
    "print('Минимальное в списке:', mi)\n",
    "\n",
    "stn = (df['gold']-mi)/(ma-mi)      #стандартная нормализация\n",
    "print('стандартная нормализация:',stn)\n",
    "\n",
    "sr = df['gold'].mean()             #среднее значение в столбце\n",
    "print('Среднее значение в столбце:', sr)\n",
    "\n",
    "st = df['gold'].std()              #стандартное отклонение в столбце\n",
    "print(st)\n",
    "\n",
    "mmn = (df['gold']-sr)/st\n",
    "print('min-max нормализация:', mmn)\n"
   ]
  }
 ],
 "metadata": {
  "kernelspec": {
   "display_name": "Python 3",
   "language": "python",
   "name": "python3"
  },
  "language_info": {
   "codemirror_mode": {
    "name": "ipython",
    "version": 3
   },
   "file_extension": ".py",
   "mimetype": "text/x-python",
   "name": "python",
   "nbconvert_exporter": "python",
   "pygments_lexer": "ipython3",
   "version": "3.10.7 (tags/v3.10.7:6cc6b13, Sep  5 2022, 14:08:36) [MSC v.1933 64 bit (AMD64)]"
  },
  "orig_nbformat": 4,
  "vscode": {
   "interpreter": {
    "hash": "a285706faa6a9586f29b2d65442270418fa5418eb298dfa17b733493bf5ee42e"
   }
  }
 },
 "nbformat": 4,
 "nbformat_minor": 2
}
