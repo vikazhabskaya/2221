{
 "cells": [
  {
   "attachments": {},
   "cell_type": "markdown",
   "metadata": {},
   "source": [
    "# 2. Элементы теории вероятности: дисперсия и стандартное отклонение"
   ]
  },
  {
   "attachments": {},
   "cell_type": "markdown",
   "metadata": {},
   "source": [
    "2.1"
   ]
  },
  {
   "cell_type": "code",
   "execution_count": 2,
   "metadata": {},
   "outputs": [
    {
     "name": "stdout",
     "output_type": "stream",
     "text": [
      "                    date  temp  pressure  humidity    month\n",
      "0    2019-12-31 23:00:00  -9.2     743.1        76  Декабрь\n",
      "1    2019-12-31 20:00:00  -8.8     744.1        75  Декабрь\n",
      "2    2019-12-31 17:00:00  -7.9     744.5        82  Декабрь\n",
      "3    2019-12-31 14:00:00 -11.5     745.9        85  Декабрь\n",
      "4    2019-12-31 11:00:00 -12.8     749.0        84  Декабрь\n",
      "...                  ...   ...       ...       ...      ...\n",
      "2914 2019-01-01 14:00:00 -10.6     770.8        71   Январь\n",
      "2915 2019-01-01 11:00:00 -11.9     771.3        75   Январь\n",
      "2916 2019-01-01 08:00:00 -12.8     770.9        75   Январь\n",
      "2917 2019-01-01 05:00:00 -12.8     770.9        75   Январь\n",
      "2918 2019-01-01 02:00:00 -11.8     770.6        75   Январь\n",
      "\n",
      "[2919 rows x 5 columns]\n",
      "Дисперсия значений температуры по месяцам: {'Август': 105.52, 'Апрель': 80.93, 'Декабрь': 133.34, 'Июль': 135.13, 'Июнь': 105.33, 'Май': 118.56, 'Март': 63.97, 'Ноябрь': 139.17, 'Октябрь': 72.41, 'Сентябрь': 76.83, 'Февраль': 79.67, 'Январь': 116.42}\n",
      "Стандартное отклонение значений температуры по месяцам:{'Август': 10.27, 'Апрель': 9.0, 'Декабрь': 11.55, 'Июль': 11.62, 'Июнь': 10.26, 'Май': 10.89, 'Март': 8.0, 'Ноябрь': 11.8, 'Октябрь': 8.51, 'Сентябрь': 8.77, 'Февраль': 8.93, 'Январь': 10.79}\n"
     ]
    }
   ],
   "source": [
    "import matplotlib.pyplot as plt\n",
    "import pandas as pd\n",
    "import numpy as np\n",
    "\n",
    "\n",
    "df = pd.read_csv('new_ekb_weather.csv')\n",
    "df = df.drop('Unnamed: 0', axis=1)\n",
    "df['date'] = pd.to_datetime(df['date'])\n",
    "print(df)\n",
    "\n",
    "month_temp_var = (df.groupby('month')['temp'].apply(lambda i: round(np.var(i), 2)))\n",
    "month_temp_std = (df.groupby('month')['temp'].apply(lambda i: round(np.std(i), 2)))\n",
    "\n",
    "dict_month_temp_var = month_temp_var.to_dict()\n",
    "dict_month_temp_std = month_temp_std.to_dict()\n",
    "\n",
    "print('Дисперсия значений температуры по месяцам: {var}'.format(var = dict_month_temp_var))\n",
    "\n",
    "print ('Стандартное отклонение значений температуры по месяцам:{std}'.format(std = dict_month_temp_std))"
   ]
  },
  {
   "attachments": {},
   "cell_type": "markdown",
   "metadata": {},
   "source": [
    "2.2"
   ]
  },
  {
   "cell_type": "code",
   "execution_count": 3,
   "metadata": {},
   "outputs": [
    {
     "name": "stdout",
     "output_type": "stream",
     "text": [
      "Дисперсия значений давления по месяцам: {'Август': 25.66, 'Апрель': 52.1, 'Декабрь': 51.56, 'Июль': 53.48, 'Июнь': 44.2, 'Май': 52.72, 'Март': 70.84, 'Ноябрь': 61.16, 'Октябрь': 64.15, 'Сентябрь': 49.0, 'Февраль': 76.29, 'Январь': 76.95}\n",
      "Стандартное отклонение значений давления по месяцам:{'Август': 5.07, 'Апрель': 7.22, 'Декабрь': 7.18, 'Июль': 7.31, 'Июнь': 6.65, 'Май': 7.26, 'Март': 8.42, 'Ноябрь': 7.82, 'Октябрь': 8.01, 'Сентябрь': 7.0, 'Февраль': 8.73, 'Январь': 8.77}\n"
     ]
    }
   ],
   "source": [
    "month_pressure_var = (df.groupby('month')['pressure'].apply(lambda i: round(np.var(i), 2)))\n",
    "month_pressure_std = (df.groupby('month')['pressure'].apply(lambda i: round(np.std(i), 2)))\n",
    "\n",
    "dict_month_pressure_var = month_pressure_var.to_dict()\n",
    "dict_month_pressure_std = month_pressure_std.to_dict()\n",
    "\n",
    "print('Дисперсия значений давления по месяцам: {var}'.format(var = dict_month_pressure_var))\n",
    "\n",
    "print('Стандартное отклонение значений давления по месяцам:{std}'.format( std = dict_month_pressure_std))"
   ]
  },
  {
   "attachments": {},
   "cell_type": "markdown",
   "metadata": {},
   "source": [
    "2.3"
   ]
  },
  {
   "cell_type": "code",
   "execution_count": 4,
   "metadata": {},
   "outputs": [
    {
     "name": "stdout",
     "output_type": "stream",
     "text": [
      "Дисперсия значений влажности по месяцам: {'Август': 261.64, 'Апрель': 405.44, 'Декабрь': 250.86, 'Июль': 375.17, 'Июнь': 332.37, 'Май': 381.93, 'Март': 301.24, 'Ноябрь': 258.94, 'Октябрь': 178.1, 'Сентябрь': 288.29, 'Февраль': 255.85, 'Январь': 148.42}\n",
      "Стандартное отклонение значений влажности по месяцам:{'Август': 16.18, 'Апрель': 20.14, 'Декабрь': 15.84, 'Июль': 19.37, 'Июнь': 18.23, 'Май': 19.54, 'Март': 17.36, 'Ноябрь': 16.09, 'Октябрь': 13.35, 'Сентябрь': 16.98, 'Февраль': 16.0, 'Январь': 12.18}\n"
     ]
    }
   ],
   "source": [
    "month_humidity_var = (df.groupby('month')['humidity'].apply(lambda i: round(np.var(i), 2)))\n",
    "month_humidity_std = (df.groupby('month')['humidity'].apply(lambda i: round(np.std(i), 2)))\n",
    "\n",
    "dict_month_humidity_var = month_humidity_var.to_dict()\n",
    "dict_month_humidity_std = month_humidity_std.to_dict()\n",
    "\n",
    "print('Дисперсия значений влажности по месяцам: {var}'.format(var = dict_month_humidity_var))\n",
    "\n",
    "print('Стандартное отклонение значений влажности по месяцам:{std}'.format(std = dict_month_humidity_std))"
   ]
  },
  {
   "attachments": {},
   "cell_type": "markdown",
   "metadata": {},
   "source": [
    "2.4"
   ]
  },
  {
   "cell_type": "code",
   "execution_count": 7,
   "metadata": {},
   "outputs": [
    {
     "name": "stdout",
     "output_type": "stream",
     "text": [
      "              temp     pressure     humidity\n",
      "count  2919.000000  2918.000000  2919.000000\n",
      "mean      3.953923   761.434133    66.257965\n",
      "std      11.908801     8.133222    17.755583\n",
      "min     -31.800000   735.000000    13.000000\n",
      "25%      -5.200000   756.100000    55.000000\n",
      "50%       3.900000   761.200000    72.000000\n",
      "75%      13.500000   766.900000    80.000000\n",
      "max      33.600000   787.600000    93.000000\n",
      "Межквартильное расстояние:\n",
      " temp        18.7\n",
      "pressure    10.8\n",
      "humidity    25.0\n",
      "dtype: float64\n"
     ]
    }
   ],
   "source": [
    "df_describe = df.describe()\n",
    "\n",
    "print(df_describe)\n",
    "\n",
    "print('Межквартильное расстояние:\\n', df_describe.loc['75%']-df_describe.loc['25%'])"
   ]
  },
  {
   "attachments": {},
   "cell_type": "markdown",
   "metadata": {},
   "source": [
    "2.5"
   ]
  },
  {
   "cell_type": "code",
   "execution_count": 12,
   "metadata": {},
   "outputs": [
    {
     "name": "stdout",
     "output_type": "stream",
     "text": [
      "                    date  temp  pressure  humidity    month\n",
      "0    2019-12-31 23:00:00  -9.2     743.1        76  Декабрь\n",
      "1    2019-12-31 20:00:00  -8.8     744.1        75  Декабрь\n",
      "2    2019-12-31 17:00:00  -7.9     744.5        82  Декабрь\n",
      "3    2019-12-31 14:00:00 -11.5     745.9        85  Декабрь\n",
      "4    2019-12-31 11:00:00 -12.8     749.0        84  Декабрь\n",
      "...                  ...   ...       ...       ...      ...\n",
      "2914 2019-01-01 14:00:00 -10.6     770.8        71   Январь\n",
      "2915 2019-01-01 11:00:00 -11.9     771.3        75   Январь\n",
      "2916 2019-01-01 08:00:00 -12.8     770.9        75   Январь\n",
      "2917 2019-01-01 05:00:00 -12.8     770.9        75   Январь\n",
      "2918 2019-01-01 02:00:00 -11.8     770.6        75   Январь\n",
      "\n",
      "[2919 rows x 5 columns]\n"
     ]
    },
    {
     "data": {
      "image/png": "[encoded data removed]",
      "text/plain": [
       "<Figure size 640x480 with 1 Axes>"
      ]
     },
     "metadata": {},
     "output_type": "display_data"
    },
    {
     "data": {
      "image/png": "[encoded data removed]",
      "text/plain": [
       "<Figure size 640x480 with 1 Axes>"
      ]
     },
     "metadata": {},
     "output_type": "display_data"
    },
    {
     "data": {
      "image/png": "[encoded data removed]",
      "text/plain": [
       "<Figure size 640x480 with 1 Axes>"
      ]
     },
     "metadata": {},
     "output_type": "display_data"
    }
   ],
   "source": [
    "print(df)\n",
    "\n",
    "plt.rcParams[\"figure.autolayout\"] = True\n",
    "plt.boxplot(df.temp)\n",
    "plt.title('Температура')\n",
    "plt.show()\n",
    "\n",
    "df['pressure'].plot(kind='box')\n",
    "plt.boxplot(df.pressure)\n",
    "plt.title('Давление')\n",
    "plt.show()\n",
    "\n",
    "plt.boxplot(df.humidity)\n",
    "plt.title('Влажность')\n",
    "plt.show()"
   ]
  }
 ],
 "metadata": {
  "kernelspec": {
   "display_name": "Python 3",
   "language": "python",
   "name": "python3"
  },
  "language_info": {
   "codemirror_mode": {
    "name": "ipython",
    "version": 3
   },
   "file_extension": ".py",
   "mimetype": "text/x-python",
   "name": "python",
   "nbconvert_exporter": "python",
   "pygments_lexer": "ipython3",
   "version": "3.10.7"
  },
  "orig_nbformat": 4,
  "vscode": {
   "interpreter": {
    "hash": "a285706faa6a9586f29b2d65442270418fa5418eb298dfa17b733493bf5ee42e"
   }
  }
 },
 "nbformat": 4,
 "nbformat_minor": 2
}
