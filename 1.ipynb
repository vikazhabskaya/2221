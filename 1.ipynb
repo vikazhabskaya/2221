{
 "cells": [
  {
   "attachments": {},
   "cell_type": "markdown",
   "metadata": {},
   "source": [
    "# Глава 2"
   ]
  },
  {
   "attachments": {},
   "cell_type": "markdown",
   "metadata": {},
   "source": [
    "## 1. Подключение и работа с библиотекой numpy"
   ]
  },
  {
   "attachments": {},
   "cell_type": "markdown",
   "metadata": {},
   "source": [
    "1.1"
   ]
  },
  {
   "cell_type": "code",
   "execution_count": 4,
   "metadata": {},
   "outputs": [
    {
     "name": "stdout",
     "output_type": "stream",
     "text": [
      "Массив а содержит  3 столбцов и  3 строк\n",
      "Массив b содержит  3 столбцов и  3 строк\n",
      "Сумма элементов массивов [[ 6.6 13.2 10.8]\n",
      " [ 7.2 12.9  3. ]\n",
      " [10.8  8.8 13.9]]\n",
      "Разность элементов массивов [[-2.  -3.  -1.4]\n",
      " [-0.2  0.5  0. ]\n",
      " [ 6.  -2.6  4.5]]\n",
      "Произведение элементов массивов [[ 9.89 41.31 28.67]\n",
      " [12.95 41.54  2.25]\n",
      " [20.16 17.67 43.24]]\n",
      "Разность элементов массивов [[0.53488372 0.62962963 0.7704918 ]\n",
      " [0.94594595 1.08064516 1.        ]\n",
      " [3.5        0.54385965 1.95744681]]\n",
      "Возведение в квадрат элементов массива а: [[ 5.29 26.01 22.09]\n",
      " [12.25 44.89  2.25]\n",
      " [70.56  9.61 84.64]]\n",
      "Остаток от деления массива b на 2: [[0.3 0.1 0.1]\n",
      " [1.7 0.2 1.5]\n",
      " [0.4 1.7 0.7]]\n",
      "Сумма косинусов массива a и синусов массива b [[-1.58244196  1.34786755 -0.19455117]\n",
      " [-1.46629283  0.83129375  1.06823219]\n",
      " [ 0.15617453 -1.54982069 -1.97476688]]\n"
     ]
    }
   ],
   "source": [
    "import numpy as np\n",
    "\n",
    "a = np.array([[2.3, 5.1, 4.7],\n",
    "              [3.5, 6.7, 1.5],\n",
    "              [8.4, 3.1, 9.2]])\n",
    "b = np.array([[4.3, 8.1, 6.1],\n",
    "              [3.7, 6.2, 1.5],\n",
    "              [2.4, 5.7, 4.7]])\n",
    "\n",
    "cols = len(a[0])    #столбцы\n",
    "rows = len(a)       #строки\n",
    "cols_2 = len(b[0])\n",
    "rows_2 = len(b)\n",
    "\n",
    "print('Массив а содержит ', cols, 'столбцов и ', rows, 'строк')\n",
    "print('Массив b содержит ', cols_2, 'столбцов и ', rows_2, 'строк')\n",
    "\n",
    "print('Сумма элементов массивов', a+b)\n",
    "print('Разность элементов массивов' , a-b)\n",
    "print('Произведение элементов массивов', a*b)\n",
    "print('Разность элементов массивов' , a/b)\n",
    "\n",
    "A = np.square(a)\n",
    "B = b%2\n",
    "print('Возведение в квадрат элементов массива а:', A)\n",
    "print('Остаток от деления массива b на 2:', B)\n",
    "\n",
    "S = np.cos(a)+np.sin(b)\n",
    "print('Сумма косинусов массива a и синусов массива b', S)"
   ]
  },
  {
   "attachments": {},
   "cell_type": "markdown",
   "metadata": {},
   "source": [
    "1.2"
   ]
  },
  {
   "cell_type": "code",
   "execution_count": 5,
   "metadata": {},
   "outputs": [
    {
     "name": "stdout",
     "output_type": "stream",
     "text": [
      "Количество строк 9\n",
      "[[1.2]\n",
      " [2.4]\n",
      " [3.6]\n",
      " [3.5]\n",
      " [6.7]\n",
      " [1.5]\n",
      " [8.4]\n",
      " [3.1]\n",
      " [9.2]]\n",
      "[[1.2 2.4 3.6]\n",
      " [3.5 6.7 1.5]\n",
      " [8.4 3.1 9.2]]\n",
      "Минимальное число в столбце: [1.2 2.4 1.5]\n",
      "Минимальное число в строке: [1.2 1.5 3.1]\n",
      "Максимальное число в столбце: [8.4 6.7 9.2]\n",
      "Максимальное число в строке: [3.6 6.7 9.2]\n",
      "Сумма в столбцах: [13.1 12.2 14.3]\n",
      "Сумма в строках: [ 7.2 11.7 20.7]\n"
     ]
    }
   ],
   "source": [
    "import numpy as np\n",
    "\n",
    "a = np.array([1.2, 2.4, 3.6, 3.5, 6.7, 1.5, 8.4, 3.1, 9.2])\n",
    "\n",
    "#cols = len(a[0])\n",
    "rows = len(a)\n",
    "\n",
    "print('Количество строк', rows)\n",
    "\n",
    "a.resize(9, 1)\n",
    "print(a)\n",
    "\n",
    "\n",
    "a.resize(3,3)\n",
    "print(a)\n",
    "mi = a.min(axis = 0)\n",
    "mi_1 = a.min(axis = 1)\n",
    "print('Минимальное число в столбце:', mi)\n",
    "print('Минимальное число в строке:', mi_1)\n",
    "\n",
    "ma = a.max(axis = 0)\n",
    "ma_1 = a.max(axis = 1)\n",
    "print('Максимальное число в столбце:', ma)\n",
    "print('Максимальное число в строке:', ma_1)\n",
    "\n",
    "s = a.sum(axis = 0)\n",
    "s_1 = a.sum(axis = 1)\n",
    "print('Сумма в столбцах:', s)\n",
    "print('Сумма в строках:', s_1)"
   ]
  },
  {
   "attachments": {},
   "cell_type": "markdown",
   "metadata": {},
   "source": [
    "1.3"
   ]
  },
  {
   "cell_type": "code",
   "execution_count": 6,
   "metadata": {},
   "outputs": [
    {
     "name": "stdout",
     "output_type": "stream",
     "text": [
      "Массив из 4-х строк и 2-х столбцов:\n",
      "[[4 2]\n",
      " [9 1]\n",
      " [5 3]\n",
      " [2 5]]\n",
      "Срез:\n",
      "[[4 2]\n",
      " [9 1]\n",
      " [5 3]]\n",
      "Сумма элементов: 24\n",
      "Максимальный элемент: 9\n",
      "Минимальный элемент: 1\n",
      "Массив из 2-х строк и 4-х столбцов:\n",
      "[[4 2 5 3]\n",
      " [9 1 2 5]]\n",
      "Срез:\n",
      "[[4 2 5]]\n",
      "Сумма элементов: 11\n",
      "Максимальный элемент: 5\n",
      "Минимальный элемент: 2\n"
     ]
    }
   ],
   "source": [
    "import numpy as np\n",
    "\n",
    "a = np.array([[4,2], [9,1]])\n",
    "b = np.array([[5,3], [2,5]])\n",
    "\n",
    "M = np.row_stack([a,b])\n",
    "print('Массив из 4-х строк и 2-х столбцов:')\n",
    "print(M)\n",
    "\n",
    "Sr = M[0:3, :]\n",
    "print('Срез:')\n",
    "print(Sr)\n",
    "\n",
    "print('Сумма элементов:',Sr.sum())\n",
    "print('Максимальный элемент:',Sr.max())\n",
    "print('Минимальный элемент:',Sr.min())\n",
    "\n",
    "N = np.column_stack([a,b])\n",
    "print('Массив из 2-х строк и 4-х столбцов:')\n",
    "print(N)\n",
    "\n",
    "Sr_1 = N[:1, 0:3]\n",
    "print('Срез:')\n",
    "print(Sr_1)\n",
    "print('Сумма элементов:',Sr_1.sum())\n",
    "print('Максимальный элемент:',Sr_1.max())\n",
    "print('Минимальный элемент:',Sr_1.min())"
   ]
  },
  {
   "attachments": {},
   "cell_type": "markdown",
   "metadata": {},
   "source": [
    "1.4"
   ]
  },
  {
   "cell_type": "code",
   "execution_count": 8,
   "metadata": {},
   "outputs": [
    {
     "name": "stdout",
     "output_type": "stream",
     "text": [
      "[2. 1.]\n"
     ]
    }
   ],
   "source": [
    "import numpy as np\n",
    "\n",
    "M = np.array([[5, 4], [2, -6]])  #Матрица\n",
    "V = np.array([14, -2])           #Вектор\n",
    "\n",
    "O = np.linalg.solve(M,V)\n",
    "print(O)"
   ]
  },
  {
   "attachments": {},
   "cell_type": "markdown",
   "metadata": {},
   "source": [
    "1.5"
   ]
  },
  {
   "cell_type": "code",
   "execution_count": 9,
   "metadata": {},
   "outputs": [
    {
     "name": "stdout",
     "output_type": "stream",
     "text": [
      "Транспонированные матрицы:\n",
      "[[ 2  1]\n",
      " [ 8 -6]]\n",
      "[[3 4 6]\n",
      " [2 1 3]\n",
      " [7 8 7]]\n",
      "[[ 4  6  7  9]\n",
      " [ 3  1  5  5]\n",
      " [ 2  1  8 -3]\n",
      " [ 7 -2  1 -5]]\n",
      "Обратные матрицы:\n",
      "[[ 0.3   0.4 ]\n",
      " [ 0.05 -0.1 ]]\n",
      "[[-0.5483871   0.22580645  0.29032258]\n",
      " [ 0.64516129 -0.67741935  0.12903226]\n",
      " [ 0.19354839  0.09677419 -0.16129032]]\n",
      "[[ 0.05464191  0.23129973 -0.05251989 -0.0265252 ]\n",
      " [-0.00424403 -0.37718833  0.11087533  0.16710875]\n",
      " [-0.06153846  0.03076923  0.10769231 -0.07692308]\n",
      " [ 0.13103448  0.02068966 -0.04827586 -0.03448276]]\n",
      "Определитель матриц:\n",
      "-20.000000000000007\n",
      "31.0\n",
      "1885.0000000000005\n",
      "Норма векторов из строк матрицы 3x3:\n",
      "[7.23042679 8.32514752 8.36820939]\n",
      "Норма векторов из столбцов матрицы 4x4:\n",
      "[10.1260949   6.04123954  8.04742813  7.42720632]\n"
     ]
    }
   ],
   "source": [
    "import numpy as np\n",
    "\n",
    "A = np.array([[2,8], [1,-6]])\n",
    "B = np.array([[3,2,7],[4,1,8],[6,3,7]])\n",
    "C = np.array([[4,3,2,7], [6,1,1,-2], [7,5,8,1],[9,5,-3,-5]])\n",
    "\n",
    "Tr_A = A.transpose()\n",
    "Tr_B = B.transpose()\n",
    "Tr_C = C.transpose()\n",
    "\n",
    "print('Транспонированные матрицы:')\n",
    "print(Tr_A)\n",
    "print(Tr_B)\n",
    "print(Tr_C)\n",
    "\n",
    "Ob_A = np.linalg.inv(A)\n",
    "Ob_B = np.linalg.inv(B)\n",
    "Ob_C = np.linalg.inv(C)\n",
    "\n",
    "print('Обратные матрицы:')\n",
    "print(Ob_A)\n",
    "print(Ob_B)\n",
    "print(Ob_C)\n",
    "\n",
    "Op_A = np.linalg.det(A)\n",
    "Op_B = np.linalg.det(B)\n",
    "Op_C = np.linalg.det(C)\n",
    "\n",
    "print('Определитель матриц:')\n",
    "print(Op_A)\n",
    "print(Op_B)\n",
    "print(Op_C)\n",
    "\n",
    "N_B = np.linalg.norm(B,3,axis=1)\n",
    "\n",
    "print('Норма векторов из строк матрицы 3x3:')\n",
    "print(N_B)\n",
    "\n",
    "N_C = np.linalg.norm(C,4,axis=0)\n",
    "\n",
    "print('Норма векторов из столбцов матрицы 4x4:')\n",
    "print(N_C)\n",
    "\n"
   ]
  },
  {
   "attachments": {},
   "cell_type": "markdown",
   "metadata": {},
   "source": [
    "1.6"
   ]
  },
  {
   "cell_type": "code",
   "execution_count": 10,
   "metadata": {},
   "outputs": [
    {
     "name": "stdout",
     "output_type": "stream",
     "text": [
      "Исходный массив: [ 30  99  82  58  37  86  97  79  88  19  12  46 100  10  51  24  58  17\n",
      "  77  15   4  14  88 100  70  69  34  25  32  21  53  84  56  99  26   7\n",
      "  20  55  59  30  98   1  47  84  71  77  87  74  83  28   6  79  40  17\n",
      "  11  45  40  12  17   6  90  24  88  39  76   4  51  66  60  86  49  39\n",
      "  38  87  61   2  19  96  68  17  61  92  85  41  27  28  36  35  32  25\n",
      "  19  34  42  74  51  76  39  18  69   3]\n",
      "Количество элементов > 50:  47\n",
      "47\n"
     ]
    }
   ],
   "source": [
    "import numpy as np\n",
    "import random\n",
    "\n",
    "a = np.array([random.randint(0, 100) for i in range(0, 100, 1)])\n",
    "\n",
    "print('Исходный массив:', a)\n",
    "k = 0\n",
    "for i in a:\n",
    "    if i>50:\n",
    "        k +=1\n",
    "print('Количество элементов > 50: ', k)\n",
    "\n",
    "print((a>50).sum())"
   ]
  },
  {
   "cell_type": "markdown",
   "metadata": {},
   "source": []
  }
 ],
 "metadata": {
  "kernelspec": {
   "display_name": "Python 3",
   "language": "python",
   "name": "python3"
  },
  "language_info": {
   "codemirror_mode": {
    "name": "ipython",
    "version": 3
   },
   "file_extension": ".py",
   "mimetype": "text/x-python",
   "name": "python",
   "nbconvert_exporter": "python",
   "pygments_lexer": "ipython3",
   "version": "3.10.7 (tags/v3.10.7:6cc6b13, Sep  5 2022, 14:08:36) [MSC v.1933 64 bit (AMD64)]"
  },
  "orig_nbformat": 4,
  "vscode": {
   "interpreter": {
    "hash": "a285706faa6a9586f29b2d65442270418fa5418eb298dfa17b733493bf5ee42e"
   }
  }
 },
 "nbformat": 4,
 "nbformat_minor": 2
}
