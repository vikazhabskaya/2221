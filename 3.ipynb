{
 "cells": [
  {
   "attachments": {},
   "cell_type": "markdown",
   "metadata": {},
   "source": [
    "# 3. Срезы данных и логическое индексирование"
   ]
  },
  {
   "attachments": {},
   "cell_type": "markdown",
   "metadata": {},
   "source": [
    "3.1"
   ]
  },
  {
   "cell_type": "code",
   "execution_count": 1,
   "metadata": {},
   "outputs": [
    {
     "name": "stdout",
     "output_type": "stream",
     "text": [
      "    heights  weights  ages\n",
      "0       188       86    58\n",
      "1       172       71    61\n",
      "2       187       89    54\n",
      "3       161       64    54\n",
      "4       183       83    58\n",
      "5       172       71    57\n",
      "6       185       86    63\n",
      "7       163       68    54\n",
      "8       173       73    37\n",
      "9       183       84    51\n",
      "10      174       73    34\n",
      "11      175       84    26\n",
      "12      178       73    50\n",
      "13      183       72    48\n",
      "14      195       75    45\n",
      "15      178       78    52\n",
      "16      173       85    56\n",
      "17      174       93    46\n",
      "18      183       78    54\n",
      "19      174       70    28\n",
      "20      181       74    52\n",
      "21      162       80    47\n",
      "22      180       83    55\n",
      "23      170       82    54\n",
      "24      175       68    42\n",
      "25      182       80    51\n",
      "26      180       73    56\n",
      "27      183       78    55\n",
      "28      178       82    51\n",
      "29      182       81    54\n",
      "30      188       83    32\n",
      "31      175       79    21\n",
      "32      179       82    62\n",
      "33      184       86    43\n",
      "34      193       76    55\n",
      "35      182       77    56\n",
      "36      183       80    61\n",
      "37      175      103    53\n",
      "38      185       82    22\n",
      "39      182       83    64\n"
     ]
    }
   ],
   "source": [
    "import pandas as pd\n",
    "\n",
    "heights = [188, 172, 187, 161, 183, 172, 185, 163, 173, 183, 174, 175,\n",
    "           178, 183, 195, 178, 173, 174, 183, 174, 181, 162, 180, 170,\n",
    "           175, 182, 180, 183, 178, 182, 188, 175, 179, 184, 193, 182,\n",
    "           183, 175, 185, 182, 183, 156, 185, 199]\n",
    "\n",
    "weights = [86, 71, 89, 64, 83, 71, 86, 68, 73, 84, 73, 84, 73, 72, 75,\n",
    "           78, 85, 93, 78, 70, 74, 80, 83, 82, 68, 80, 73, 78, 82, 81,\n",
    "           83, 79, 82, 86, 76, 77, 80, 103, 82, 83, 77, 89, 80, 85, 82,\n",
    "           85, 110]\n",
    "\n",
    "ages = [58, 61, 54, 54, 58, 57, 63, 54, 37, 51, 34, 26, 50, 48, 45, 52,\n",
    "        56, 46, 54, 28, 52, 47, 55, 54, 42, 51, 56, 55, 51, 54, 32, 21,\n",
    "        62, 43, 55, 56, 61, 53, 22, 64, 45, 54, 47, 38]\n",
    "\n",
    "columns = ['heights', 'weights', 'ages']\n",
    "\n",
    "df = pd.DataFrame(zip(heights, weights, ages), columns=columns)\n",
    "newdf = df.loc[:39]\n",
    "print(newdf)"
   ]
  },
  {
   "attachments": {},
   "cell_type": "markdown",
   "metadata": {},
   "source": [
    "3.2"
   ]
  },
  {
   "cell_type": "code",
   "execution_count": 2,
   "metadata": {},
   "outputs": [
    {
     "name": "stdout",
     "output_type": "stream",
     "text": [
      "Количество строк heights > 180:  19\n"
     ]
    }
   ],
   "source": [
    "import pandas as pd\n",
    "\n",
    "heights = [188, 172, 187, 161, 183, 172, 185, 163, 173, 183, 174, 175,\n",
    "           178, 183, 195, 178, 173, 174, 183, 174, 181, 162, 180, 170,\n",
    "           175, 182, 180, 183, 178, 182, 188, 175, 179, 184, 193, 182,\n",
    "           183, 175, 185, 182, 183, 156, 185, 199]\n",
    "\n",
    "weights = [86, 71, 89, 64, 83, 71, 86, 68, 73, 84, 73, 84, 73, 72, 75,\n",
    "           78, 85, 93, 78, 70, 74, 80, 83, 82, 68, 80, 73, 78, 82, 81,\n",
    "           83, 79, 82, 86, 76, 77, 80, 103, 82, 83, 77, 89, 80, 85, 82,\n",
    "           85, 110]\n",
    "\n",
    "ages = [58, 61, 54, 54, 58, 57, 63, 54, 37, 51, 34, 26, 50, 48, 45, 52,\n",
    "        56, 46, 54, 28, 52, 47, 55, 54, 42, 51, 56, 55, 51, 54, 32, 21,\n",
    "        62, 43, 55, 56, 61, 53, 22, 64, 45, 54, 47, 38]\n",
    "\n",
    "columns = ['heights', 'weights', 'ages']\n",
    "\n",
    "df = pd.DataFrame(zip(heights, weights, ages), columns=columns)\n",
    "newdf = df.loc[:39]\n",
    "#print(newdf)\n",
    "DF = newdf.loc[newdf['heights']>180]\n",
    "print('Количество строк heights > 180: ', len(DF))"
   ]
  },
  {
   "attachments": {},
   "cell_type": "markdown",
   "metadata": {},
   "source": [
    "3.3"
   ]
  },
  {
   "cell_type": "code",
   "execution_count": 4,
   "metadata": {},
   "outputs": [
    {
     "name": "stdout",
     "output_type": "stream",
     "text": [
      "Количество строк weights < 80:  19\n"
     ]
    }
   ],
   "source": [
    "import pandas as pd\n",
    "\n",
    "heights = [188, 172, 187, 161, 183, 172, 185, 163, 173, 183, 174, 175,\n",
    "           178, 183, 195, 178, 173, 174, 183, 174, 181, 162, 180, 170,\n",
    "           175, 182, 180, 183, 178, 182, 188, 175, 179, 184, 193, 182,\n",
    "           183, 175, 185, 182, 183, 156, 185, 199]\n",
    "\n",
    "weights = [86, 71, 89, 64, 83, 71, 86, 68, 73, 84, 73, 84, 73, 72, 75,\n",
    "           78, 85, 93, 78, 70, 74, 80, 83, 82, 68, 80, 73, 78, 82, 81,\n",
    "           83, 79, 82, 86, 76, 77, 80, 103, 82, 83, 77, 89, 80, 85, 82,\n",
    "           85, 110]\n",
    "\n",
    "ages = [58, 61, 54, 54, 58, 57, 63, 54, 37, 51, 34, 26, 50, 48, 45, 52,\n",
    "        56, 46, 54, 28, 52, 47, 55, 54, 42, 51, 56, 55, 51, 54, 32, 21,\n",
    "        62, 43, 55, 56, 61, 53, 22, 64, 45, 54, 47, 38]\n",
    "\n",
    "columns = ['heights', 'weights', 'ages']\n",
    "\n",
    "df = pd.DataFrame(zip(heights, weights, ages), columns=columns)\n",
    "newdf = df.loc[:39]\n",
    "#print(newdf)\n",
    "DF = newdf.loc[newdf['weights']<80]\n",
    "#print(DF)\n",
    "print('Количество строк weights < 80: ', len(DF))"
   ]
  },
  {
   "attachments": {},
   "cell_type": "markdown",
   "metadata": {},
   "source": [
    "3.4"
   ]
  },
  {
   "cell_type": "code",
   "execution_count": 6,
   "metadata": {},
   "outputs": [
    {
     "name": "stdout",
     "output_type": "stream",
     "text": [
      "Количество строк 30 < ages < 50:  9\n"
     ]
    }
   ],
   "source": [
    "import pandas as pd\n",
    "\n",
    "heights = [188, 172, 187, 161, 183, 172, 185, 163, 173, 183, 174, 175,\n",
    "           178, 183, 195, 178, 173, 174, 183, 174, 181, 162, 180, 170,\n",
    "           175, 182, 180, 183, 178, 182, 188, 175, 179, 184, 193, 182,\n",
    "           183, 175, 185, 182, 183, 156, 185, 199]\n",
    "\n",
    "weights = [86, 71, 89, 64, 83, 71, 86, 68, 73, 84, 73, 84, 73, 72, 75,\n",
    "           78, 85, 93, 78, 70, 74, 80, 83, 82, 68, 80, 73, 78, 82, 81,\n",
    "           83, 79, 82, 86, 76, 77, 80, 103, 82, 83, 77, 89, 80, 85, 82,\n",
    "           85, 110]\n",
    "\n",
    "ages = [58, 61, 54, 54, 58, 57, 63, 54, 37, 51, 34, 26, 50, 48, 45, 52,\n",
    "        56, 46, 54, 28, 52, 47, 55, 54, 42, 51, 56, 55, 51, 54, 32, 21,\n",
    "        62, 43, 55, 56, 61, 53, 22, 64, 45, 54, 47, 38]\n",
    "\n",
    "columns = ['heights', 'weights', 'ages']\n",
    "\n",
    "df = pd.DataFrame(zip(heights, weights, ages), columns=columns)\n",
    "newdf = df.loc[:39]\n",
    "#print(newdf)\n",
    "DF = newdf.loc[(newdf['ages']>30) & (newdf['ages']<50)]\n",
    "#print(DF)\n",
    "print('Количество строк 30 < ages < 50: ', len(DF))"
   ]
  },
  {
   "attachments": {},
   "cell_type": "markdown",
   "metadata": {},
   "source": [
    "3.5"
   ]
  },
  {
   "cell_type": "code",
   "execution_count": 8,
   "metadata": {},
   "outputs": [
    {
     "name": "stdout",
     "output_type": "stream",
     "text": [
      "Количество строк heights > 170 и weights > 80:  17\n",
      "Максимальное: heights    188\n",
      "weights    103\n",
      "ages        64\n",
      "dtype: int64\n",
      "Минимальное: heights    173\n",
      "weights     81\n",
      "ages        22\n",
      "dtype: int64\n",
      "Среднее: heights    181.235294\n",
      "weights     85.588235\n",
      "ages        49.882353\n",
      "dtype: float64\n",
      "Стандартное отклонение:: heights     4.892972\n",
      "weights     5.374230\n",
      "ages       12.474386\n",
      "dtype: float64\n"
     ]
    }
   ],
   "source": [
    "import pandas as pd\n",
    "\n",
    "heights = [188, 172, 187, 161, 183, 172, 185, 163, 173, 183, 174, 175,\n",
    "           178, 183, 195, 178, 173, 174, 183, 174, 181, 162, 180, 170,\n",
    "           175, 182, 180, 183, 178, 182, 188, 175, 179, 184, 193, 182,\n",
    "           183, 175, 185, 182, 183, 156, 185, 199]\n",
    "\n",
    "weights = [86, 71, 89, 64, 83, 71, 86, 68, 73, 84, 73, 84, 73, 72, 75,\n",
    "           78, 85, 93, 78, 70, 74, 80, 83, 82, 68, 80, 73, 78, 82, 81,\n",
    "           83, 79, 82, 86, 76, 77, 80, 103, 82, 83, 77, 89, 80, 85, 82,\n",
    "           85, 110]\n",
    "\n",
    "ages = [58, 61, 54, 54, 58, 57, 63, 54, 37, 51, 34, 26, 50, 48, 45, 52,\n",
    "        56, 46, 54, 28, 52, 47, 55, 54, 42, 51, 56, 55, 51, 54, 32, 21,\n",
    "        62, 43, 55, 56, 61, 53, 22, 64, 45, 54, 47, 38]\n",
    "\n",
    "columns = ['heights', 'weights', 'ages']\n",
    "\n",
    "df = pd.DataFrame(zip(heights, weights, ages), columns=columns)\n",
    "newdf = df.loc[:39]\n",
    "#print(newdf)\n",
    "DF = newdf.loc[(newdf['heights']>170) & (newdf['weights']>80)]\n",
    "#print(DF)\n",
    "print('Количество строк heights > 170 и weights > 80: ', len(DF))\n",
    "ma = DF.max()\n",
    "print('Максимальное:', ma)\n",
    "mi = DF.min()\n",
    "print('Минимальное:', mi)\n",
    "me = DF.mean()\n",
    "print('Среднее:', me)\n",
    "st = DF.std()\n",
    "print('Стандартное отклонение::', st)"
   ]
  }
 ],
 "metadata": {
  "kernelspec": {
   "display_name": "Python 3",
   "language": "python",
   "name": "python3"
  },
  "language_info": {
   "codemirror_mode": {
    "name": "ipython",
    "version": 3
   },
   "file_extension": ".py",
   "mimetype": "text/x-python",
   "name": "python",
   "nbconvert_exporter": "python",
   "pygments_lexer": "ipython3",
   "version": "3.10.7 (tags/v3.10.7:6cc6b13, Sep  5 2022, 14:08:36) [MSC v.1933 64 bit (AMD64)]"
  },
  "orig_nbformat": 4,
  "vscode": {
   "interpreter": {
    "hash": "a285706faa6a9586f29b2d65442270418fa5418eb298dfa17b733493bf5ee42e"
   }
  }
 },
 "nbformat": 4,
 "nbformat_minor": 2
}
