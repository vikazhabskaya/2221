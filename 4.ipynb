{
 "cells": [
  {
   "attachments": {},
   "cell_type": "markdown",
   "metadata": {},
   "source": [
    "# 4 Предобработка данных: пропуски, некорректные данные и дубликаты"
   ]
  },
  {
   "attachments": {},
   "cell_type": "markdown",
   "metadata": {},
   "source": [
    "4.1"
   ]
  },
  {
   "cell_type": "code",
   "execution_count": 2,
   "metadata": {},
   "outputs": [
    {
     "name": "stdout",
     "output_type": "stream",
     "text": [
      "<class 'pandas.core.frame.DataFrame'>\n",
      "RangeIndex: 128 entries, 0 to 127\n",
      "Data columns (total 5 columns):\n",
      " #   Column   Non-Null Count  Dtype \n",
      "---  ------   --------------  ----- \n",
      " 0   GOLDA    124 non-null    object\n",
      " 1   Silver   121 non-null    object\n",
      " 2   platinu  124 non-null    object\n",
      " 3   Palla    120 non-null    object\n",
      " 4   Date     128 non-null    object\n",
      "dtypes: object(5)\n",
      "memory usage: 5.1+ KB\n",
      "None\n"
     ]
    }
   ],
   "source": [
    "import pandas as pd\n",
    "\n",
    "df = pd.read_csv('precious_metal.csv', sep=';')\n",
    "print(df.info())"
   ]
  },
  {
   "attachments": {},
   "cell_type": "markdown",
   "metadata": {},
   "source": [
    "4.2"
   ]
  },
  {
   "cell_type": "code",
   "execution_count": 3,
   "metadata": {},
   "outputs": [
    {
     "name": "stdout",
     "output_type": "stream",
     "text": [
      "None\n",
      "        gold silver platinum palladium             date\n",
      "0     4784,4   58,7  2183,31   5677,62  31.10.2020 0:00\n",
      "1    4759,17  60,67  2195,94   5662,27  30.10.2020 0:00\n",
      "2    4729,52  60,93  2179,19   5812,01  29.10.2020 0:00\n",
      "3    4667,69  59,68  2145,92   5813,41  28.10.2020 0:00\n",
      "4    4673,64  60,85  2189,85       NaN  27.10.2020 0:00\n",
      "..       ...    ...      ...       ...              ...\n",
      "123  4047,21    NaN  1800,29   4298,85  09.05.2020 0:00\n",
      "124   4023,9   35,7  1794,33   4324,99  08.05.2020 0:00\n",
      "125  4040,41  35,85  1795,58   4221,39  07.05.2020 0:00\n",
      "126  4014,11  35,86  1819,12   4655,36  01.05.2020 0:00\n",
      "127   4041,8  35,93  1847,95   4638,83  30.04.2020 0:00\n",
      "\n",
      "[128 rows x 5 columns]\n"
     ]
    },
    {
     "name": "stderr",
     "output_type": "stream",
     "text": [
      "C:\\Users\\zhabs\\AppData\\Local\\Temp\\ipykernel_14944\\155469080.py:7: FutureWarning: DataFrame.set_axis 'inplace' keyword is deprecated and will be removed in a future version. Use `obj = obj.set_axis(..., copy=False)` instead\n",
      "  DF = df.set_axis(new, axis = 'columns', inplace = True)\n"
     ]
    }
   ],
   "source": [
    "import pandas as pd\n",
    "\n",
    "df = pd.read_csv('precious_metal.csv', sep=';')\n",
    "#print(df)\n",
    "\n",
    "new = ['gold', 'silver', 'platinum', 'palladium', 'date']\n",
    "DF = df.set_axis(new, axis = 'columns', inplace = True)\n",
    "print(DF)\n",
    "\n",
    "DF1 = df.rename(columns ={'GOLDA':'gold', 'Silver':'silver', 'platinu':'platinum', 'Palla':'palladium', 'Date':'date'})\n",
    "print(DF1)"
   ]
  },
  {
   "attachments": {},
   "cell_type": "markdown",
   "metadata": {},
   "source": [
    "4.3"
   ]
  },
  {
   "cell_type": "code",
   "execution_count": 4,
   "metadata": {},
   "outputs": [
    {
     "name": "stdout",
     "output_type": "stream",
     "text": [
      "        gold silver platinum palladium             date\n",
      "0     4784,4   58,7  2183,31   5677,62  31.10.2020 0:00\n",
      "1    4759,17  60,67  2195,94   5662,27  30.10.2020 0:00\n",
      "2    4729,52  60,93  2179,19   5812,01  29.10.2020 0:00\n",
      "3    4667,69  59,68  2145,92   5813,41  28.10.2020 0:00\n",
      "4    4673,64  60,85  2189,85       NaN  27.10.2020 0:00\n",
      "..       ...    ...      ...       ...              ...\n",
      "123  4047,21    NaN  1800,29   4298,85  09.05.2020 0:00\n",
      "124   4023,9   35,7  1794,33   4324,99  08.05.2020 0:00\n",
      "125  4040,41  35,85  1795,58   4221,39  07.05.2020 0:00\n",
      "126  4014,11  35,86  1819,12   4655,36  01.05.2020 0:00\n",
      "127   4041,8  35,93  1847,95   4638,83  30.04.2020 0:00\n",
      "\n",
      "[128 rows x 5 columns]\n",
      "gold         4\n",
      "silver       7\n",
      "platinum     4\n",
      "palladium    8\n",
      "date         0\n",
      "dtype: int64\n",
      "        gold silver platinum palladium             date\n",
      "0     4784,4   58,7  2183,31   5677,62  31.10.2020 0:00\n",
      "1    4759,17  60,67  2195,94   5662,27  30.10.2020 0:00\n",
      "2    4729,52  60,93  2179,19   5812,01  29.10.2020 0:00\n",
      "3    4667,69  59,68  2145,92   5813,41  28.10.2020 0:00\n",
      "4    4673,64  60,85  2189,85         0  27.10.2020 0:00\n",
      "..       ...    ...      ...       ...              ...\n",
      "123  4047,21      0  1800,29   4298,85  09.05.2020 0:00\n",
      "124   4023,9   35,7  1794,33   4324,99  08.05.2020 0:00\n",
      "125  4040,41  35,85  1795,58   4221,39  07.05.2020 0:00\n",
      "126  4014,11  35,86  1819,12   4655,36  01.05.2020 0:00\n",
      "127   4041,8  35,93  1847,95   4638,83  30.04.2020 0:00\n",
      "\n",
      "[128 rows x 5 columns]\n"
     ]
    }
   ],
   "source": [
    "import pandas as pd\n",
    "\n",
    "df = pd.read_csv('precious_metal.csv', sep=';')\n",
    "#print(df)\n",
    "\n",
    "#new = ['gold', 'silver', 'platinum', 'palladium', 'date']\n",
    "#DF = df.set_axis(new, axis = 'columns', inplace = True)\n",
    "#print(DF)\n",
    "\n",
    "DF1 = df.rename(columns ={'GOLDA':'gold', 'Silver':'silver', 'platinu':'platinum', 'Palla':'palladium', 'Date':'date'})\n",
    "print(DF1)\n",
    "\n",
    "DF2 = DF1.isnull().sum()\n",
    "print(DF2)\n",
    "\n",
    "DF3 = DF1.fillna(0)\n",
    "print(DF3)"
   ]
  },
  {
   "attachments": {},
   "cell_type": "markdown",
   "metadata": {},
   "source": [
    "4.4"
   ]
  },
  {
   "cell_type": "code",
   "execution_count": 5,
   "metadata": {},
   "outputs": [
    {
     "name": "stdout",
     "output_type": "stream",
     "text": [
      "        gold silver platinum palladium             date\n",
      "0     4784,4   58,7  2183,31   5677,62  31.10.2020 0:00\n",
      "1    4759,17  60,67  2195,94   5662,27  30.10.2020 0:00\n",
      "2    4729,52  60,93  2179,19   5812,01  29.10.2020 0:00\n",
      "3    4667,69  59,68  2145,92   5813,41  28.10.2020 0:00\n",
      "4    4673,64  60,85  2189,85       NaN  27.10.2020 0:00\n",
      "..       ...    ...      ...       ...              ...\n",
      "123  4047,21    NaN  1800,29   4298,85  09.05.2020 0:00\n",
      "124   4023,9   35,7  1794,33   4324,99  08.05.2020 0:00\n",
      "125  4040,41  35,85  1795,58   4221,39  07.05.2020 0:00\n",
      "126  4014,11  35,86  1819,12   4655,36  01.05.2020 0:00\n",
      "127   4041,8  35,93  1847,95   4638,83  30.04.2020 0:00\n",
      "\n",
      "[128 rows x 5 columns]\n",
      "        gold  silver  platinum  palladium             date\n",
      "0    4784.40   58.70   2183.31    5677.62  31.10.2020 0:00\n",
      "1    4759.17   60.67   2195.94    5662.27  30.10.2020 0:00\n",
      "2    4729.52   60.93   2179.19    5812.01  29.10.2020 0:00\n",
      "3    4667.69   59.68   2145.92    5813.41  28.10.2020 0:00\n",
      "4    4673.64   60.85   2189.85        NaN  27.10.2020 0:00\n",
      "..       ...     ...       ...        ...              ...\n",
      "123  4047.21     NaN   1800.29    4298.85  09.05.2020 0:00\n",
      "124  4023.90   35.70   1794.33    4324.99  08.05.2020 0:00\n",
      "125  4040.41   35.85   1795.58    4221.39  07.05.2020 0:00\n",
      "126  4014.11   35.86   1819.12    4655.36  01.05.2020 0:00\n",
      "127  4041.80   35.93   1847.95    4638.83  30.04.2020 0:00\n",
      "\n",
      "[128 rows x 5 columns]\n"
     ]
    }
   ],
   "source": [
    "import pandas as pd\n",
    "\n",
    "df = pd.read_csv('precious_metal.csv', sep=';')\n",
    "#print(df)\n",
    "\n",
    "#new = ['gold', 'silver', 'platinum', 'palladium', 'date']\n",
    "#DF = df.set_axis(new, axis = 'columns', inplace = True)\n",
    "#print(DF)\n",
    "\n",
    "DF1 = df.rename(columns ={'GOLDA':'gold', 'Silver':'silver', 'platinu':'platinum', 'Palla':'palladium', 'Date':'date'})\n",
    "print(DF1)\n",
    "\n",
    "def replace_symbol(x):\n",
    "    x = str(x)\n",
    "    x = float(x.replace(',','.'))\n",
    "    return x\n",
    "DF1['gold'] = DF1['gold'].apply(replace_symbol)\n",
    "DF1['silver'] = DF1['silver'].apply(replace_symbol)\n",
    "DF1['platinum'] = DF1['platinum'].apply(replace_symbol)\n",
    "DF1['palladium'] = DF1['palladium'].apply(replace_symbol)\n",
    "\n",
    "print(DF1)"
   ]
  },
  {
   "attachments": {},
   "cell_type": "markdown",
   "metadata": {},
   "source": [
    "4.5"
   ]
  },
  {
   "cell_type": "code",
   "execution_count": 15,
   "metadata": {},
   "outputs": [
    {
     "name": "stdout",
     "output_type": "stream",
     "text": [
      "        gold silver platinum palladium             date\n",
      "0     4784,4   58,7  2183,31   5677,62  31.10.2020 0:00\n",
      "1    4759,17  60,67  2195,94   5662,27  30.10.2020 0:00\n",
      "2    4729,52  60,93  2179,19   5812,01  29.10.2020 0:00\n",
      "3    4667,69  59,68  2145,92   5813,41  28.10.2020 0:00\n",
      "4    4673,64  60,85  2189,85       NaN  27.10.2020 0:00\n",
      "..       ...    ...      ...       ...              ...\n",
      "123  4047,21    NaN  1800,29   4298,85  09.05.2020 0:00\n",
      "124   4023,9   35,7  1794,33   4324,99  08.05.2020 0:00\n",
      "125  4040,41  35,85  1795,58   4221,39  07.05.2020 0:00\n",
      "126  4014,11  35,86  1819,12   4655,36  01.05.2020 0:00\n",
      "127   4041,8  35,93  1847,95   4638,83  30.04.2020 0:00\n",
      "\n",
      "[128 rows x 5 columns]\n",
      "        gold  silver  platinum  palladium             date\n",
      "0    4784.40   58.70   2183.31    5677.62  31.10.2020 0:00\n",
      "1    4759.17   60.67   2195.94    5662.27  30.10.2020 0:00\n",
      "2    4729.52   60.93   2179.19    5812.01  29.10.2020 0:00\n",
      "3    4667.69   59.68   2145.92    5813.41  28.10.2020 0:00\n",
      "4    4673.64   60.85   2189.85       0.00  27.10.2020 0:00\n",
      "..       ...     ...       ...        ...              ...\n",
      "123  4047.21    0.00   1800.29    4298.85  09.05.2020 0:00\n",
      "124  4023.90   35.70   1794.33    4324.99  08.05.2020 0:00\n",
      "125  4040.41   35.85   1795.58    4221.39  07.05.2020 0:00\n",
      "126  4014.11   35.86   1819.12    4655.36  01.05.2020 0:00\n",
      "127  4041.80   35.93   1847.95    4638.83  30.04.2020 0:00\n",
      "\n",
      "[128 rows x 5 columns]\n",
      "gold_mean 4234.95359375\n",
      "silver_mean 49.593203125\n",
      "platinum_mean 1988.522578125\n",
      "palladium_mean 4679.6908593749995\n"
     ]
    }
   ],
   "source": [
    "import pandas as pd\n",
    "\n",
    "df = pd.read_csv('precious_metal.csv', sep=';')\n",
    "#print(df)\n",
    "\n",
    "#new = ['gold', 'silver', 'platinum', 'palladium', 'date']\n",
    "#DF = df.set_axis(new, axis = 'columns', inplace = True)\n",
    "#print(DF)\n",
    "\n",
    "DF1 = df.rename(columns ={'GOLDA':'gold', 'Silver':'silver', 'platinu':'platinum', 'Palla':'palladium', 'Date':'date'})\n",
    "print(DF1)\n",
    "\n",
    "DF1 = DF1.fillna(0)\n",
    "\n",
    "def replace_symbol(x):\n",
    "    x = str(x)\n",
    "    x = float(x.replace(',','.'))\n",
    "    return x\n",
    "DF1['gold'] = DF1['gold'].apply(replace_symbol)\n",
    "DF1['silver'] = DF1['silver'].apply(replace_symbol)\n",
    "DF1['platinum'] = DF1['platinum'].apply(replace_symbol)\n",
    "DF1['palladium'] = DF1['palladium'].apply(replace_symbol)\n",
    "\n",
    "print(DF1)\n",
    "\n",
    "gold_mean = DF1['gold'].mean()\n",
    "print('gold_mean', gold_mean)\n",
    "silver_mean = DF1['silver'].mean()\n",
    "print('silver_mean', silver_mean)\n",
    "platinum_mean = DF1['platinum'].mean()\n",
    "print('platinum_mean', platinum_mean)\n",
    "palladium_mean = DF1['palladium'].mean()\n",
    "print('palladium_mean', palladium_mean)\n",
    "\n"
   ]
  },
  {
   "attachments": {},
   "cell_type": "markdown",
   "metadata": {},
   "source": [
    "4.6"
   ]
  },
  {
   "cell_type": "code",
   "execution_count": 17,
   "metadata": {},
   "outputs": [
    {
     "name": "stdout",
     "output_type": "stream",
     "text": [
      "        gold silver platinum palladium             date\n",
      "0     4784,4   58,7  2183,31   5677,62  31.10.2020 0:00\n",
      "1    4759,17  60,67  2195,94   5662,27  30.10.2020 0:00\n",
      "2    4729,52  60,93  2179,19   5812,01  29.10.2020 0:00\n",
      "3    4667,69  59,68  2145,92   5813,41  28.10.2020 0:00\n",
      "4    4673,64  60,85  2189,85       NaN  27.10.2020 0:00\n",
      "..       ...    ...      ...       ...              ...\n",
      "123  4047,21    NaN  1800,29   4298,85  09.05.2020 0:00\n",
      "124   4023,9   35,7  1794,33   4324,99  08.05.2020 0:00\n",
      "125  4040,41  35,85  1795,58   4221,39  07.05.2020 0:00\n",
      "126  4014,11  35,86  1819,12   4655,36  01.05.2020 0:00\n",
      "127   4041,8  35,93  1847,95   4638,83  30.04.2020 0:00\n",
      "\n",
      "[128 rows x 5 columns]\n",
      "        gold  silver  platinum  palladium             date\n",
      "0    4784.40   58.70   2183.31    5677.62  31.10.2020 0:00\n",
      "1    4759.17   60.67   2195.94    5662.27  30.10.2020 0:00\n",
      "2    4729.52   60.93   2179.19    5812.01  29.10.2020 0:00\n",
      "3    4667.69   59.68   2145.92    5813.41  28.10.2020 0:00\n",
      "4    4673.64   60.85   2189.85       0.00  27.10.2020 0:00\n",
      "..       ...     ...       ...        ...              ...\n",
      "123  4047.21    0.00   1800.29    4298.85  09.05.2020 0:00\n",
      "124  4023.90   35.70   1794.33    4324.99  08.05.2020 0:00\n",
      "125  4040.41   35.85   1795.58    4221.39  07.05.2020 0:00\n",
      "126  4014.11   35.86   1819.12    4655.36  01.05.2020 0:00\n",
      "127  4041.80   35.93   1847.95    4638.83  30.04.2020 0:00\n",
      "\n",
      "[128 rows x 5 columns]\n",
      "        gold  silver  platinum  palladium             date  gold_usd  \\\n",
      "0    4784.40   58.70   2183.31    5677.62  31.10.2020 0:00     67.13   \n",
      "1    4759.17   60.67   2195.94    5662.27  30.10.2020 0:00     66.78   \n",
      "2    4729.52   60.93   2179.19    5812.01  29.10.2020 0:00     66.36   \n",
      "3    4667.69   59.68   2145.92    5813.41  28.10.2020 0:00     65.49   \n",
      "4    4673.64   60.85   2189.85       0.00  27.10.2020 0:00     65.58   \n",
      "..       ...     ...       ...        ...              ...       ...   \n",
      "123  4047.21    0.00   1800.29    4298.85  09.05.2020 0:00     56.79   \n",
      "124  4023.90   35.70   1794.33    4324.99  08.05.2020 0:00     56.46   \n",
      "125  4040.41   35.85   1795.58    4221.39  07.05.2020 0:00     56.69   \n",
      "126  4014.11   35.86   1819.12    4655.36  01.05.2020 0:00     56.32   \n",
      "127  4041.80   35.93   1847.95    4638.83  30.04.2020 0:00     56.71   \n",
      "\n",
      "     silver_usd  platinum_usd  palladium_usd  \n",
      "0          0.82         30.63          79.66  \n",
      "1          0.85         30.81          79.45  \n",
      "2          0.85         30.58          81.55  \n",
      "3          0.84         30.11          81.57  \n",
      "4          0.85         30.73           0.00  \n",
      "..          ...           ...            ...  \n",
      "123        0.00         25.26          60.32  \n",
      "124        0.50         25.18          60.68  \n",
      "125        0.50         25.19          59.23  \n",
      "126        0.50         25.52          65.32  \n",
      "127        0.50         25.93          65.09  \n",
      "\n",
      "[128 rows x 9 columns]\n"
     ]
    }
   ],
   "source": [
    "import pandas as pd\n",
    "\n",
    "df = pd.read_csv('precious_metal.csv', sep=';')\n",
    "#print(df)\n",
    "\n",
    "#new = ['gold', 'silver', 'platinum', 'palladium', 'date']\n",
    "#DF = df.set_axis(new, axis = 'columns', inplace = True)\n",
    "#print(DF)\n",
    "\n",
    "DF1 = df.rename(columns ={'GOLDA':'gold', 'Silver':'silver', 'platinu':'platinum', 'Palla':'palladium', 'Date':'date'})\n",
    "print(DF1)\n",
    "\n",
    "DF1 = DF1.fillna(0)\n",
    "def replace_symbol(x):\n",
    "    x = str(x)\n",
    "    x = float(x.replace(',','.'))\n",
    "    return x\n",
    "DF1['gold'] = DF1['gold'].apply(replace_symbol)\n",
    "DF1['silver'] = DF1['silver'].apply(replace_symbol)\n",
    "DF1['platinum'] = DF1['platinum'].apply(replace_symbol)\n",
    "DF1['palladium'] = DF1['palladium'].apply(replace_symbol)\n",
    "\n",
    "print(DF1)\n",
    "\n",
    "DF1['gold_usd'] = round(DF1['gold']/71.27, 2)\n",
    "DF1['silver_usd'] = round(DF1['silver']/71.27, 2)\n",
    "DF1['platinum_usd'] = round(DF1['platinum']/71.27, 2)\n",
    "DF1['palladium_usd'] = round(DF1['palladium']/71.27, 2)\n",
    "print(DF1)\n",
    "DF1.pop('date')\n",
    "\n",
    "DF1.to_csv('precious_metal_new.csv')"
   ]
  }
 ],
 "metadata": {
  "kernelspec": {
   "display_name": "Python 3",
   "language": "python",
   "name": "python3"
  },
  "language_info": {
   "codemirror_mode": {
    "name": "ipython",
    "version": 3
   },
   "file_extension": ".py",
   "mimetype": "text/x-python",
   "name": "python",
   "nbconvert_exporter": "python",
   "pygments_lexer": "ipython3",
   "version": "3.10.7 (tags/v3.10.7:6cc6b13, Sep  5 2022, 14:08:36) [MSC v.1933 64 bit (AMD64)]"
  },
  "orig_nbformat": 4,
  "vscode": {
   "interpreter": {
    "hash": "a285706faa6a9586f29b2d65442270418fa5418eb298dfa17b733493bf5ee42e"
   }
  }
 },
 "nbformat": 4,
 "nbformat_minor": 2
}
