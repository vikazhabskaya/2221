{
 "cells": [
  {
   "attachments": {},
   "cell_type": "markdown",
   "metadata": {},
   "source": [
    "# 4. Группировка и агрегирование данных"
   ]
  },
  {
   "attachments": {},
   "cell_type": "markdown",
   "metadata": {},
   "source": [
    "4.1"
   ]
  },
  {
   "cell_type": "code",
   "execution_count": 2,
   "metadata": {},
   "outputs": [
    {
     "name": "stdout",
     "output_type": "stream",
     "text": [
      "                    date  temp  pressure  humidity    month\n",
      "0    2019-12-31 23:00:00  -9.2     743.1        76  Декабрь\n",
      "1    2019-12-31 20:00:00  -8.8     744.1        75  Декабрь\n",
      "2    2019-12-31 17:00:00  -7.9     744.5        82  Декабрь\n",
      "3    2019-12-31 14:00:00 -11.5     745.9        85  Декабрь\n",
      "4    2019-12-31 11:00:00 -12.8     749.0        84  Декабрь\n",
      "...                  ...   ...       ...       ...      ...\n",
      "2914 2019-01-01 14:00:00 -10.6     770.8        71   Январь\n",
      "2915 2019-01-01 11:00:00 -11.9     771.3        75   Январь\n",
      "2916 2019-01-01 08:00:00 -12.8     770.9        75   Январь\n",
      "2917 2019-01-01 05:00:00 -12.8     770.9        75   Январь\n",
      "2918 2019-01-01 02:00:00 -11.8     770.6        75   Январь\n",
      "\n",
      "[2919 rows x 5 columns]\n",
      "           min   max  median\n",
      "month                       \n",
      "Август   -19.5  28.8   13.40\n",
      "Апрель   -28.7  23.6    3.25\n",
      "Декабрь  -21.4  27.5   -5.40\n",
      "Июль     -28.4  33.6   16.95\n",
      "Июнь     -26.3  27.9   13.60\n",
      "Май      -31.8  26.7    9.55\n",
      "Март     -22.7  25.3    0.70\n",
      "Ноябрь   -24.2  29.6   -4.25\n",
      "Октябрь  -12.6  27.9    3.20\n",
      "Сентябрь -17.9  24.2    5.85\n",
      "Февраль  -17.5  21.1   -5.45\n",
      "Январь   -22.4  23.0   -7.75\n"
     ]
    }
   ],
   "source": [
    "import pandas as pd\n",
    "import numpy as np\n",
    "\n",
    "\n",
    "df = pd.read_csv('new_ekb_weather.csv')\n",
    "df = df.drop('Unnamed: 0', axis=1)\n",
    "df['date'] = pd.to_datetime(df['date'])\n",
    "print(df)\n",
    "\n",
    "group_month_temp = df.groupby('month')['temp'].agg([min, max, np.median])\n",
    "\n",
    "print(group_month_temp)"
   ]
  },
  {
   "attachments": {},
   "cell_type": "markdown",
   "metadata": {},
   "source": [
    "4.2"
   ]
  },
  {
   "cell_type": "code",
   "execution_count": 3,
   "metadata": {},
   "outputs": [
    {
     "name": "stdout",
     "output_type": "stream",
     "text": [
      "            min    max  median\n",
      "month                         \n",
      "Август    749.5  772.9  761.90\n",
      "Апрель    744.3  785.2  763.00\n",
      "Декабрь   743.1  775.3  764.60\n",
      "Июль      741.0  781.8  756.30\n",
      "Июнь      746.2  784.3  758.40\n",
      "Май       747.4  787.6  760.30\n",
      "Март      738.4  777.8  762.70\n",
      "Ноябрь    750.4  786.2  770.75\n",
      "Октябрь   738.1  777.9  762.30\n",
      "Сентябрь  740.8  777.4  760.20\n",
      "Февраль   735.0  774.2  758.20\n",
      "Январь    736.6  781.1  761.00\n"
     ]
    }
   ],
   "source": [
    "group_month_pressure = df.groupby('month')['pressure'].agg([min, max, np.median])\n",
    "\n",
    "print(group_month_pressure)"
   ]
  },
  {
   "attachments": {},
   "cell_type": "markdown",
   "metadata": {},
   "source": [
    "4.3"
   ]
  },
  {
   "cell_type": "code",
   "execution_count": 4,
   "metadata": {},
   "outputs": [
    {
     "name": "stdout",
     "output_type": "stream",
     "text": [
      "          min  max  median\n",
      "month                     \n",
      "Август     23   91    74.0\n",
      "Апрель     17   92    57.0\n",
      "Декабрь    22   89    78.0\n",
      "Июль       13   93    64.0\n",
      "Июнь       20   92    61.0\n",
      "Май        15   91    60.0\n",
      "Март       19   91    70.0\n",
      "Ноябрь     23   91    76.0\n",
      "Октябрь    24   93    76.0\n",
      "Сентябрь   19   91    74.5\n",
      "Февраль    16   90    74.0\n",
      "Январь     25   91    74.0\n"
     ]
    }
   ],
   "source": [
    "group_month_humidity = df.groupby('month')['humidity'].agg([min, max, np.median])\n",
    "\n",
    "print(group_month_humidity)"
   ]
  }
 ],
 "metadata": {
  "kernelspec": {
   "display_name": "Python 3",
   "language": "python",
   "name": "python3"
  },
  "language_info": {
   "codemirror_mode": {
    "name": "ipython",
    "version": 3
   },
   "file_extension": ".py",
   "mimetype": "text/x-python",
   "name": "python",
   "nbconvert_exporter": "python",
   "pygments_lexer": "ipython3",
   "version": "3.10.7"
  },
  "orig_nbformat": 4,
  "vscode": {
   "interpreter": {
    "hash": "a285706faa6a9586f29b2d65442270418fa5418eb298dfa17b733493bf5ee42e"
   }
  }
 },
 "nbformat": 4,
 "nbformat_minor": 2
}
